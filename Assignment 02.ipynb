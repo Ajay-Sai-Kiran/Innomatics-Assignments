{
 "cells": [
  {
   "cell_type": "code",
   "execution_count": null,
   "metadata": {},
   "outputs": [],
   "source": [
    "if __name__ == '__main__':\n",
    "  x = int(input())\n",
    "  y = int(input())\n",
    "  z = int(input())\n",
    "  n = int(input())\n",
    "  final_list =[]\n",
    "  for i in range(1+x):\n",
    "    for j in range(y+1):\n",
    "        for k in range(1+z):\n",
    "            if i+j+k!=n:\n",
    "                temp=[i,j,k]\n",
    "                final_list.append(temp)\n",
    "            else:\n",
    "                continue\n",
    "print(final_list)            \n"
   ]
  },
  {
   "cell_type": "code",
   "execution_count": null,
   "metadata": {},
   "outputs": [],
   "source": [
    "if __name__ == '__main__':\n",
    "    n = int(input())\n",
    "    arr = list(map(int, input().split()))\n",
    "    arr.sort()\n",
    "    max=arr[-1]\n",
    "    arr.sort(reverse=True)\n",
    "    for x in arr:\n",
    "        if x!=max:\n",
    "            result=x\n",
    "            print(result)\n",
    "            break"
   ]
  },
  {
   "cell_type": "code",
   "execution_count": null,
   "metadata": {},
   "outputs": [],
   "source": [
    "students = []\n",
    "score_list = []\n",
    "\n",
    "for _ in range(int(input())):\n",
    "\n",
    "    temp = []\n",
    "\n",
    "    name = input()\n",
    "    score = float(input())\n",
    "\n",
    "    temp.append(name)\n",
    "    temp.append(score)\n",
    "\n",
    "    score_list.append(score)\n",
    "    students.append(temp)"
   ]
  },
  {
   "cell_type": "code",
   "execution_count": null,
   "metadata": {},
   "outputs": [],
   "source": [
    "n = int(input())\n",
    "student_marks = {}\n",
    "for _ in range(n):\n",
    "    name, *line = input().split()\n",
    "    scores = list(map(float, line))\n",
    "    student_marks[name] = scores\n",
    "query_name = input()\n",
    "total_marks = sum(student_marks[query_name])\n",
    "average_marks = total_marks/3 \n",
    "print(\"%.2f\"%(average_marks))\n"
   ]
  },
  {
   "cell_type": "code",
   "execution_count": null,
   "metadata": {},
   "outputs": [],
   "source": [
    "if __name__ == '__main__':\n",
    "    N = int(input())\n",
    "    empty = []\n",
    "    conv = []\n",
    "\n",
    "    for i in range(N):\n",
    "        x = input().split()\n",
    "        empty.append(x)\n",
    "\n",
    "    for i in range(len(empty)):\n",
    "        if empty[i][0] == 'insert':\n",
    "            x = int(empty[i][1])\n",
    "            y = int(empty[i][2])\n",
    "            conv.insert(x,y)\n",
    "        elif empty[i][0] == 'print':\n",
    "            print(conv)\n",
    "        elif empty[i][0] == 'remove':\n",
    "            conv.remove(int(empty[i][1]))\n",
    "        elif empty[i][0] == 'append':\n",
    "            conv.append(int(empty[i][1]))\n",
    "        elif empty[i][0] == 'sort':\n",
    "            conv.sort()\n",
    "        elif empty[i][0] == 'pop':\n",
    "            conv.pop()\n",
    "        elif empty[i][0] == 'reverse':\n",
    "            conv.reverse()"
   ]
  },
  {
   "cell_type": "code",
   "execution_count": null,
   "metadata": {},
   "outputs": [],
   "source": [
    "if __name__ == '__main__':\n",
    "    n = int(input())\n",
    "    integer_list = map(int, input().split())\n",
    "    tup = ()\n",
    "    for x in integer_list:\n",
    "        tup+=(x,)\n",
    "    \n",
    "    print(hash(tup))"
   ]
  },
  {
   "cell_type": "code",
   "execution_count": null,
   "metadata": {},
   "outputs": [],
   "source": [
    "n, m = input().split()\n",
    "\n",
    "sc_ar = input().split()\n",
    "\n",
    "A = set(input().split())\n",
    "B = set(input().split())\n",
    "print(sum([(i in A) - (i in B) for i in sc_ar]))"
   ]
  },
  {
   "cell_type": "code",
   "execution_count": null,
   "metadata": {},
   "outputs": [],
   "source": [
    "a,b=(int(input()),input().split())\n",
    "c,d=(int(input()),input().split())\n",
    "x=set(b)\n",
    "y=set(d)\n",
    "p=y.difference(x)\n",
    "q=x.difference(y)\n",
    "r=p.union(q)\n",
    "print ('\\n'.join(sorted(r, key=int)))"
   ]
  },
  {
   "cell_type": "code",
   "execution_count": null,
   "metadata": {},
   "outputs": [],
   "source": [
    "a = set()\n",
    "[a.add(input()) for _ in range(int(input()))]\n",
    "print(len(a))\n"
   ]
  },
  {
   "cell_type": "code",
   "execution_count": null,
   "metadata": {},
   "outputs": [],
   "source": [
    "num = int(input())\n",
    "data = set(map(int, input().split()))\n",
    "operations = int(input())\n",
    "\n",
    "for x in range(operations):\n",
    "  oper = input().split()\n",
    "  if oper[0] == \"remove\":\n",
    "    data.remove(int(oper[1]))\n",
    "  elif oper[0] == \"discard\":\n",
    "    data.discard(int(oper[1]))\n",
    "  else:\n",
    "    data.pop()\n",
    "    \n",
    "print(sum(data))"
   ]
  },
  {
   "cell_type": "code",
   "execution_count": null,
   "metadata": {},
   "outputs": [],
   "source": [
    "n = int(input())\n",
    "l = list(input().split())\n",
    "m = int(input())\n",
    "k = list(input().split())\n",
    "\n",
    "s1 = set(l)\n",
    "s2 = set(k)\n",
    "\n",
    "print(len(s1.union(s2)))\n"
   ]
  },
  {
   "cell_type": "code",
   "execution_count": null,
   "metadata": {},
   "outputs": [],
   "source": [
    "num1, st1, num2, st2 = (set(input().split()) for i in range(4))\n",
    "print(len(st1.intersection(st2)))"
   ]
  },
  {
   "cell_type": "code",
   "execution_count": null,
   "metadata": {},
   "outputs": [],
   "source": [
    "n1 = int(input())\n",
    "set_1 = set(map(int,input().split()))\n",
    "n2 = int(input())\n",
    "set_2 = set(map(int,input().split()))\n",
    "print(len(set_1-set_2))\n"
   ]
  },
  {
   "cell_type": "code",
   "execution_count": null,
   "metadata": {},
   "outputs": [],
   "source": [
    "_, a = input(), set(input().split())\n",
    "_, b = input(), set(input().split())\n",
    "print(len(a.symmetric_difference(b)))"
   ]
  },
  {
   "cell_type": "code",
   "execution_count": null,
   "metadata": {},
   "outputs": [],
   "source": [
    "if __name__ == '__main__':\n",
    "    (_, A) = (int(input()),set(map(int, input().split())))\n",
    "    B = int(input())\n",
    "    for _ in range(B):\n",
    "        (command, newSet) = (input().split()[0],set(map(int, input().split())))\n",
    "        getattr(A, command)(newSet)\n",
    "\n",
    "    print (sum(A))\n"
   ]
  },
  {
   "cell_type": "code",
   "execution_count": null,
   "metadata": {},
   "outputs": [],
   "source": [
    "k,arr = int(input()),list(map(int, input().split()))\n",
    "\n",
    "myset = set(arr)\n",
    "\n",
    "print(((sum(myset)*k)-(sum(arr)))//(k-1))\n"
   ]
  },
  {
   "cell_type": "code",
   "execution_count": null,
   "metadata": {},
   "outputs": [],
   "source": [
    "for _ in range(int(input())):\n",
    "    x, a, z, b = input(), set(input().split()), input(), set(input().split())\n",
    "    print(a.issubset(b))\n"
   ]
  },
  {
   "cell_type": "code",
   "execution_count": null,
   "metadata": {},
   "outputs": [],
   "source": [
    "def isstrictsuperset(a,b):\n",
    "    # true if a is a strict superset of b\n",
    "    return b.issubset(a) and not(a.issubset(b))\n",
    "\n",
    "a = set(int(x) for x in input().split(' '))\n",
    "n = int(input())\n",
    "res = True\n",
    "\n",
    "for _ in range(n):\n",
    "    b = set(int(x) for x in input().split(' '))\n",
    "    res &= isstrictsuperset(a,b)\n",
    "    \n",
    "print(res)\n"
   ]
  }
 ],
 "metadata": {
  "kernelspec": {
   "display_name": "Python 3",
   "language": "python",
   "name": "python3"
  },
  "language_info": {
   "codemirror_mode": {
    "name": "ipython",
    "version": 3
   },
   "file_extension": ".py",
   "mimetype": "text/x-python",
   "name": "python",
   "nbconvert_exporter": "python",
   "pygments_lexer": "ipython3",
   "version": "3.8.5"
  }
 },
 "nbformat": 4,
 "nbformat_minor": 4
}
